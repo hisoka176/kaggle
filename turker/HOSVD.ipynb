{
 "cells": [
  {
   "cell_type": "code",
   "execution_count": 15,
   "metadata": {
    "collapsed": true,
    "deletable": true,
    "editable": true
   },
   "outputs": [],
   "source": [
    "import numpy as np\n",
    "import scipy as sp\n",
    "import matplotlib.pyplot as plt\n",
    "import csv"
   ]
  },
  {
   "cell_type": "code",
   "execution_count": 3,
   "metadata": {
    "collapsed": true,
    "deletable": true,
    "editable": true
   },
   "outputs": [],
   "source": [
    "def tenmat(data,index):\n",
    "    x,y,z = data.shape\n",
    "    iList = [x,y,z]\n",
    "    total = list()\n",
    "    temp = 0\n",
    "    \n",
    "    if index == 0:\n",
    "        temp = 0\n",
    "    elif index == 1:\n",
    "        temp = 2 \n",
    "    elif index == 2:\n",
    "        temp = 1\n",
    "    else:\n",
    "        raise Exception(\"index error\")\n",
    "        \n",
    "    index = temp\n",
    "    for i in range(iList[index]):\n",
    "        if index==0:\n",
    "            total.append(data[i,:,:].T)\n",
    "        elif index==1:\n",
    "            total.append(data[:,i,:])\n",
    "        elif index==2:\n",
    "            total.append(data[:,:,i].T)\n",
    "        else:\n",
    "            raise Exception(\"error\")\n",
    "    R = np.column_stack(tuple(total))\n",
    "    return R"
   ]
  },
  {
   "cell_type": "code",
   "execution_count": 4,
   "metadata": {
    "collapsed": false,
    "deletable": true,
    "editable": true
   },
   "outputs": [],
   "source": [
    "data = np.zeros((3,2,4))\n",
    "data[0,0,0]=1\n",
    "data[0,1,0]=1\n",
    "data[1,0,1]=1\n",
    "data[2,1,2]=1"
   ]
  },
  {
   "cell_type": "code",
   "execution_count": 5,
   "metadata": {
    "collapsed": false,
    "deletable": true,
    "editable": true
   },
   "outputs": [
    {
     "name": "stdout",
     "output_type": "stream",
     "text": [
      "[[[ 1.  0.  0.  0.]\n",
      "  [ 1.  0.  0.  0.]]\n",
      "\n",
      " [[ 0.  1.  0.  0.]\n",
      "  [ 0.  0.  0.  0.]]\n",
      "\n",
      " [[ 0.  0.  0.  0.]\n",
      "  [ 0.  0.  1.  0.]]]\n",
      "[[ 1.  1.  0.  0.  0.  0.]\n",
      " [ 0.  0.  1.  0.  0.  0.]\n",
      " [ 0.  0.  0.  0.  0.  1.]\n",
      " [ 0.  0.  0.  0.  0.  0.]]\n",
      "[[ 1.  0.  0.  0.  1.  0.  0.  0.  0.  0.  0.  0.]\n",
      " [ 1.  0.  0.  0.  0.  0.  0.  0.  1.  0.  0.  0.]]\n",
      "[[ 1.  0.  0.  0.  1.  0.  0.  0.]\n",
      " [ 0.  1.  0.  0.  0.  0.  0.  0.]\n",
      " [ 0.  0.  0.  0.  0.  0.  1.  0.]]\n",
      "(4, 4)\n",
      "(2, 2)\n",
      "(3, 3)\n"
     ]
    }
   ],
   "source": [
    "print(data)\n",
    "A1 = tenmat(data,0)\n",
    "A2 = tenmat(data,1)\n",
    "A3 = tenmat(data,2)\n",
    "print(A1)\n",
    "print(A2)\n",
    "print(A3)\n",
    "[u1,v1,w1] = np.linalg.svd(A1)\n",
    "[u2,v2,w2] = np.linalg.svd(A2)\n",
    "[u3,v3,w3] = np.linalg.svd(A3)\n",
    "print(u1.shape)\n",
    "print(u2.shape)\n",
    "print(u3.shape)"
   ]
  },
  {
   "cell_type": "code",
   "execution_count": 6,
   "metadata": {
    "collapsed": true,
    "deletable": true,
    "editable": true
   },
   "outputs": [],
   "source": [
    "[u1,v1,w1] = np.linalg.svd(A1)\n",
    "[u2,v2,w2] = np.linalg.svd(A2)\n",
    "[u3,v3,w3] = np.linalg.svd(A3)"
   ]
  },
  {
   "cell_type": "code",
   "execution_count": 7,
   "metadata": {
    "collapsed": true,
    "deletable": true,
    "editable": true
   },
   "outputs": [],
   "source": [
    "def ttm(tensor,index,matrix):\n",
    "    \n",
    "    x,y,z = tensor.shape\n",
    "    iList = [x,y,z]\n",
    "    \n",
    "    mx,my = matrix.shape\n",
    "    assert iList[index]==my,\"dimension not equal \"\n",
    "    if index==0:\n",
    "        result = np.zeros((mx,y,z))\n",
    "    elif index==1:\n",
    "        result = np.zeros((x,mx,z))\n",
    "    elif index==2:\n",
    "        result = np.zeros((x,y,mx))\n",
    "        \n",
    "    print(x,y,z)\n",
    "    print(mx,my)\n",
    "        \n",
    "    xx,yy,zz = result.shape\n",
    "    \n",
    "    total = 0\n",
    "    for i in range(xx):\n",
    "        for j in range(yy):\n",
    "            for k in range(zz):\n",
    "                total = 0\n",
    "                if index==0:\n",
    "                    for l in range(x):\n",
    "                        total += tensor[l,j,k]*matrix[i,l]\n",
    "                elif index==1:\n",
    "                    for l in range(y):\n",
    "                        total += tensor[i,l,k]*matrix[j,l]\n",
    "                elif index==2:\n",
    "                    for l in range(z):\n",
    "                        total += tensor[i,j,l]*matrix[k,l]\n",
    "                result[i,j,k] = total\n",
    "    return result\n"
   ]
  },
  {
   "cell_type": "code",
   "execution_count": 8,
   "metadata": {
    "collapsed": false,
    "deletable": true,
    "editable": true
   },
   "outputs": [
    {
     "name": "stdout",
     "output_type": "stream",
     "text": [
      "[[ 1.  1.  0.  0.  0.  0.]\n",
      " [ 0.  0.  1.  0.  0.  0.]\n",
      " [ 0.  0.  0.  0.  0.  1.]\n",
      " [ 0.  0.  0.  0.  0.  0.]]\n",
      "[[ 1.  0.  0.  0.  1.  0.  0.  0.  0.  0.  0.  0.]\n",
      " [ 1.  0.  0.  0.  0.  0.  0.  0.  1.  0.  0.  0.]]\n",
      "[[ 1.  0.  0.  0.  1.  0.  0.  0.]\n",
      " [ 0.  1.  0.  0.  0.  0.  0.  0.]\n",
      " [ 0.  0.  0.  0.  0.  0.  1.  0.]]\n",
      "(4, 4)\n",
      "(2, 2)\n",
      "(3, 3)\n"
     ]
    }
   ],
   "source": [
    "print(A1)\n",
    "print(A2)\n",
    "print(A3)\n",
    "print(u1.shape)\n",
    "print(u2.shape)\n",
    "print(u3.shape)\n"
   ]
  },
  {
   "cell_type": "code",
   "execution_count": 9,
   "metadata": {
    "collapsed": false,
    "deletable": true,
    "editable": true
   },
   "outputs": [
    {
     "name": "stdout",
     "output_type": "stream",
     "text": [
      "(4, 4)\n",
      "(2, 2)\n",
      "(3, 3)\n",
      "(4, 4)\n",
      "(2, 2)\n",
      "(3, 3)\n"
     ]
    }
   ],
   "source": [
    "U1 = u1.copy()\n",
    "U2 = u2.copy()\n",
    "U3 = u3.copy()\n",
    "print(U1.shape)\n",
    "print(U2.shape)\n",
    "print(U3.shape)\n",
    "# U1 = np.delete(U1,-1,1)\n",
    "# U2 = np.delete(U2,-1,1)\n",
    "# U3 = np.delete(U3,-1,1)\n",
    "print(U1.shape)\n",
    "print(U2.shape)\n",
    "print(U3.shape)"
   ]
  },
  {
   "cell_type": "code",
   "execution_count": 10,
   "metadata": {
    "collapsed": false,
    "deletable": true,
    "editable": true
   },
   "outputs": [
    {
     "name": "stdout",
     "output_type": "stream",
     "text": [
      "(3, 2, 4)\n",
      "3 2 4\n",
      "4 4\n",
      "(3, 2, 4)\n",
      "3 2 4\n",
      "2 2\n",
      "(3, 2, 4)\n",
      "3 2 4\n",
      "3 3\n",
      "(3, 2, 4)\n",
      "[[[ -1.41421356e+00   0.00000000e+00   0.00000000e+00   0.00000000e+00]\n",
      "  [  3.33066907e-16   0.00000000e+00   0.00000000e+00   0.00000000e+00]]\n",
      "\n",
      " [[  0.00000000e+00   0.00000000e+00  -7.07106781e-01   0.00000000e+00]\n",
      "  [  0.00000000e+00   0.00000000e+00   7.07106781e-01   0.00000000e+00]]\n",
      "\n",
      " [[  0.00000000e+00  -7.07106781e-01   0.00000000e+00   0.00000000e+00]\n",
      "  [  0.00000000e+00  -7.07106781e-01   0.00000000e+00   0.00000000e+00]]]\n"
     ]
    }
   ],
   "source": [
    "print(data.shape)\n",
    "\n",
    "temp = ttm(data,2,U1.T)\n",
    "print(temp.shape)\n",
    "temp = ttm(temp,1,U2.T)\n",
    "print(temp.shape)\n",
    "S = ttm(temp,0,U3.T)\n",
    "print(temp.shape)\n",
    "print(S)"
   ]
  },
  {
   "cell_type": "code",
   "execution_count": 11,
   "metadata": {
    "collapsed": false,
    "deletable": true,
    "editable": true
   },
   "outputs": [
    {
     "name": "stdout",
     "output_type": "stream",
     "text": [
      "3 2 4\n",
      "4 4\n",
      "3 2 4\n",
      "2 2\n",
      "3 2 4\n",
      "3 3\n",
      "[[[  1.00000000e+00   0.00000000e+00   0.00000000e+00   0.00000000e+00]\n",
      "  [  1.00000000e+00   0.00000000e+00   0.00000000e+00   0.00000000e+00]]\n",
      "\n",
      " [[  0.00000000e+00   1.00000000e+00   0.00000000e+00   0.00000000e+00]\n",
      "  [  0.00000000e+00   1.11022302e-16   0.00000000e+00   0.00000000e+00]]\n",
      "\n",
      " [[  0.00000000e+00   0.00000000e+00   1.11022302e-16   0.00000000e+00]\n",
      "  [  0.00000000e+00   0.00000000e+00   1.00000000e+00   0.00000000e+00]]]\n",
      "[[[ 1.  0.  0.  0.]\n",
      "  [ 1.  0.  0.  0.]]\n",
      "\n",
      " [[ 0.  1.  0.  0.]\n",
      "  [ 0.  0.  0.  0.]]\n",
      "\n",
      " [[ 0.  0.  0.  0.]\n",
      "  [ 0.  0.  1.  0.]]]\n"
     ]
    }
   ],
   "source": [
    "A = ttm(S,2,U1)\n",
    "A = ttm(A,1,U2)\n",
    "A = ttm(A,0,U3)\n",
    "print(A)\n",
    "print(data)"
   ]
  },
  {
   "cell_type": "code",
   "execution_count": 12,
   "metadata": {
    "collapsed": false,
    "deletable": true,
    "editable": true
   },
   "outputs": [
    {
     "name": "stdout",
     "output_type": "stream",
     "text": [
      "[[[ 1.  0.  0.  0.]\n",
      "  [ 1.  0.  0.  0.]]\n",
      "\n",
      " [[ 0.  1.  0.  0.]\n",
      "  [ 0.  0.  0.  0.]]\n",
      "\n",
      " [[ 0.  0.  0.  0.]\n",
      "  [ 0.  0.  1.  0.]]]\n"
     ]
    }
   ],
   "source": [
    "print(data)"
   ]
  },
  {
   "cell_type": "code",
   "execution_count": 14,
   "metadata": {
    "collapsed": false,
    "scrolled": true
   },
   "outputs": [
    {
     "name": "stdout",
     "output_type": "stream",
     "text": [
      "2632\n"
     ]
    }
   ],
   "source": [
    "with open(r'./data/item.txt','r') as f:\n",
    "    items = list()\n",
    "    for line in f:\n",
    "        line = line.rstrip('\\n')\n",
    "        if line not in items:\n",
    "            items.append(line)\n",
    "print(len(items))"
   ]
  },
  {
   "cell_type": "code",
   "execution_count": 29,
   "metadata": {
    "collapsed": false
   },
   "outputs": [],
   "source": [
    "userMap = dict()\n",
    "itemMap = dict()\n",
    "classSet = set()\n",
    "\n",
    "\n",
    "userCount = 0\n",
    "itemCount = 0\n",
    "\n",
    "userClass = list(range(120))\n",
    "with open(r'./data/original_data.csv','r') as f:\n",
    "    reader = csv.reader(f)\n",
    "    mark = True\n",
    "    result = list()\n",
    "    \n",
    "    \n",
    "    for line in reader:\n",
    "        if mark:\n",
    "            mark = False\n",
    "            header = line\n",
    "        \n",
    "        user = line[0] \n",
    "        user_class  = line[1] \n",
    "        item_id = line[2]\n",
    "        value = line[4]\n",
    "        \n",
    "        result.append([user,item_id,user_class,value])\n",
    "        \n",
    "        if user not in userMap:\n",
    "            userMap[user] = userCount\n",
    "            userCount += 1    \n",
    "        \n",
    "        if item_id not in itemMap:\n",
    "            itemMap[item_id] = itemCount\n",
    "            itemCount += 1\n",
    "        \n",
    "        classSet.add(user_class)\n",
    "        \n",
    "            "
   ]
  },
  {
   "cell_type": "code",
   "execution_count": 30,
   "metadata": {
    "collapsed": true
   },
   "outputs": [],
   "source": [
    "classSort = sorted(classSet,reverse=False)\n",
    "classMap = [(i,s) for i,s in zip(classSort,range(len(classSort)))]\n",
    "classMap = dict(classMap)\n"
   ]
  },
  {
   "cell_type": "code",
   "execution_count": 31,
   "metadata": {
    "collapsed": false
   },
   "outputs": [
    {
     "ename": "MemoryError",
     "evalue": "",
     "output_type": "error",
     "traceback": [
      "\u001b[1;31m---------------------------------------------------------------------------\u001b[0m",
      "\u001b[1;31mMemoryError\u001b[0m                               Traceback (most recent call last)",
      "\u001b[1;32m<ipython-input-31-4f745af35151>\u001b[0m in \u001b[0;36m<module>\u001b[1;34m()\u001b[0m\n\u001b[0;32m      1\u001b[0m \u001b[0mx\u001b[0m\u001b[1;33m,\u001b[0m\u001b[0my\u001b[0m\u001b[1;33m,\u001b[0m\u001b[0mz\u001b[0m \u001b[1;33m=\u001b[0m \u001b[0mlen\u001b[0m\u001b[1;33m(\u001b[0m\u001b[0muserMap\u001b[0m\u001b[1;33m.\u001b[0m\u001b[0mkeys\u001b[0m\u001b[1;33m(\u001b[0m\u001b[1;33m)\u001b[0m\u001b[1;33m)\u001b[0m\u001b[1;33m,\u001b[0m\u001b[0mlen\u001b[0m\u001b[1;33m(\u001b[0m\u001b[0mitems\u001b[0m\u001b[1;33m)\u001b[0m\u001b[1;33m,\u001b[0m\u001b[0mlen\u001b[0m\u001b[1;33m(\u001b[0m\u001b[0muserClass\u001b[0m\u001b[1;33m)\u001b[0m\u001b[1;33m\u001b[0m\u001b[0m\n\u001b[1;32m----> 2\u001b[1;33m \u001b[0mX_data\u001b[0m \u001b[1;33m=\u001b[0m \u001b[0mnp\u001b[0m\u001b[1;33m.\u001b[0m\u001b[0mzeros\u001b[0m\u001b[1;33m(\u001b[0m\u001b[1;33m(\u001b[0m\u001b[0mx\u001b[0m\u001b[1;33m,\u001b[0m\u001b[0my\u001b[0m\u001b[1;33m,\u001b[0m\u001b[0mz\u001b[0m\u001b[1;33m)\u001b[0m\u001b[1;33m)\u001b[0m\u001b[1;33m\u001b[0m\u001b[0m\n\u001b[0m\u001b[0;32m      3\u001b[0m \u001b[1;32mfor\u001b[0m \u001b[0mu\u001b[0m\u001b[1;33m,\u001b[0m\u001b[0mi\u001b[0m\u001b[1;33m,\u001b[0m\u001b[0mc\u001b[0m\u001b[1;33m,\u001b[0m\u001b[0mv\u001b[0m \u001b[1;32min\u001b[0m \u001b[0mresult\u001b[0m\u001b[1;33m:\u001b[0m\u001b[1;33m\u001b[0m\u001b[0m\n\u001b[0;32m      4\u001b[0m \u001b[1;33m\u001b[0m\u001b[0m\n\u001b[0;32m      5\u001b[0m     \u001b[0muIndex\u001b[0m \u001b[1;33m=\u001b[0m \u001b[0muserMap\u001b[0m\u001b[1;33m[\u001b[0m\u001b[0mu\u001b[0m\u001b[1;33m]\u001b[0m\u001b[1;33m\u001b[0m\u001b[0m\n",
      "\u001b[1;31mMemoryError\u001b[0m: "
     ]
    }
   ],
   "source": [
    "x,y,z = len(userMap.keys()),len(itemMap.keys()),len(userClass)\n",
    "X_data = np.zeros((x,y,z))\n",
    "for u,i,c,v in result:\n",
    "    \n",
    "    uIndex = userMap[u]\n",
    "    iIndex = itemMap[i]\n",
    "    cIndex = classMap[c]\n",
    "    \n",
    "    X_data[uIndex,iIndex,cIndex] = int(v) \n",
    "    "
   ]
  },
  {
   "cell_type": "code",
   "execution_count": 27,
   "metadata": {
    "collapsed": false
   },
   "outputs": [
    {
     "name": "stdout",
     "output_type": "stream",
     "text": [
      "[1, 2, 3, 4, 6]\n"
     ]
    }
   ],
   "source": []
  }
 ],
 "metadata": {
  "kernelspec": {
   "display_name": "Python 3",
   "language": "python",
   "name": "python3"
  },
  "language_info": {
   "codemirror_mode": {
    "name": "ipython",
    "version": 3
   },
   "file_extension": ".py",
   "mimetype": "text/x-python",
   "name": "python",
   "nbconvert_exporter": "python",
   "pygments_lexer": "ipython3",
   "version": "3.5.3"
  }
 },
 "nbformat": 4,
 "nbformat_minor": 2
}

{
 "cells": [
  {
   "cell_type": "code",
   "execution_count": 1,
   "metadata": {
    "collapsed": true
   },
   "outputs": [],
   "source": [
    "import numpy as np\n",
    "import scipy as sp\n",
    "import matplotlib.pyplot as plt"
   ]
  },
  {
   "cell_type": "code",
   "execution_count": 15,
   "metadata": {
    "collapsed": true
   },
   "outputs": [],
   "source": [
    "def tenmat(data,index):\n",
    "    x,y,z = data.shape\n",
    "    iList = [x,y,z]\n",
    "    total = list()\n",
    "    for i in range(iList[index]):\n",
    "        if index==0:\n",
    "            total.append(data[i,:,:].T)\n",
    "        elif index==1:\n",
    "            total.append(data[:,i,:])\n",
    "        elif index==2:\n",
    "            total.append(data[:,:,i].T)\n",
    "        else:\n",
    "            raise Exception(\"error\")\n",
    "    R = np.column_stack(tuple(total))\n",
    "    return R"
   ]
  },
  {
   "cell_type": "code",
   "execution_count": 16,
   "metadata": {
    "collapsed": true
   },
   "outputs": [],
   "source": [
    "data = np.zeros((3,2,3))\n",
    "data[0,0,0]=1\n",
    "data[0,1,0]=1\n",
    "data[1,0,1\n",
    "data[2,1,2]=1"
   ]
  },
  {
   "cell_type": "code",
   "execution_count": 18,
   "metadata": {},
   "outputs": [],
   "source": [
    "A1 = tenmat(data,0)\n",
    "A2 = tenmat(data,2)\n",
    "A3 = tenmat(data,1)"
   ]
  },
  {
   "cell_type": "code",
   "execution_count": 19,
   "metadata": {},
   "outputs": [],
   "source": [
    "[u1,v1,w1] = np.linalg.svd(A1)\n",
    "[u2,v2,w2] = np.linalg.svd(A2)\n",
    "[u3,v3,w3] = np.linalg.svd(A3)"
   ]
  },
  {
   "cell_type": "code",
   "execution_count": 21,
   "metadata": {
    "collapsed": true
   },
   "outputs": [],
   "source": [
    "def ttm(tensor,index,matrix):\n",
    "    x,y,z = tensor.shape\n",
    "    iList = [x,y,z]\n",
    "    \n",
    "    mx,my = matrix.shape\n",
    "    assert iList[index]==my,\"dimension not equal \"\n",
    "    if index==1:\n",
    "        result = np.zeros((mx,y,z))\n",
    "    elif index==2:\n",
    "        result = np.zeros((x,mx,z))\n",
    "    elif index==3:\n",
    "        result = np.zeros((x,y,mx))\n",
    "        \n",
    "    xx,yy,zz = result.shape\n",
    "    \n",
    "    total = 0\n",
    "    for i in range(xx):\n",
    "        for j in range(yy):\n",
    "            for k in range(zz):\n",
    "                total = 0\n",
    "                for l in range(x):\n",
    "                    total += tensor[l,j,k]*matrix[i,l]\n",
    "                result[i,j,k] = total\n",
    "    return result\n"
   ]
  },
  {
   "cell_type": "code",
   "execution_count": 22,
   "metadata": {},
   "outputs": [
    {
     "data": {
      "text/plain": [
       "array([[[ 1.,  0.,  0.],\n",
       "        [ 1.,  0.,  0.]],\n",
       "\n",
       "       [[ 0.,  0.,  0.],\n",
       "        [ 0.,  0.,  1.]],\n",
       "\n",
       "       [[ 0.,  1.,  0.],\n",
       "        [ 0.,  0.,  0.]]])"
      ]
     },
     "execution_count": 22,
     "metadata": {},
     "output_type": "execute_result"
    }
   ],
   "source": [
    "ttm(data,u1)"
   ]
  },
  {
   "cell_type": "code",
   "execution_count": null,
   "metadata": {
    "collapsed": true
   },
   "outputs": [],
   "source": []
  },
  {
   "cell_type": "code",
   "execution_count": null,
   "metadata": {
    "collapsed": true
   },
   "outputs": [],
   "source": []
  }
 ],
 "metadata": {
  "kernelspec": {
   "display_name": "Python 3",
   "language": "python",
   "name": "python3"
  },
  "language_info": {
   "codemirror_mode": {
    "name": "ipython",
    "version": 3
   },
   "file_extension": ".py",
   "mimetype": "text/x-python",
   "name": "python",
   "nbconvert_exporter": "python",
   "pygments_lexer": "ipython3",
   "version": "3.5.2"
  }
 },
 "nbformat": 4,
 "nbformat_minor": 2
}

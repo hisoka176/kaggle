{
 "cells": [
  {
   "cell_type": "code",
   "execution_count": 1,
   "metadata": {},
   "outputs": [
    {
     "name": "stderr",
     "output_type": "stream",
     "text": [
      "/home/hisoka176/.local/lib/python3.5/site-packages/sklearn/cross_validation.py:44: DeprecationWarning: This module was deprecated in version 0.18 in favor of the model_selection module into which all the refactored classes and functions are moved. Also note that the interface of the new CV iterators are different from that of this module. This module will be removed in 0.20.\n",
      "  \"This module will be removed in 0.20.\", DeprecationWarning)\n"
     ]
    }
   ],
   "source": [
    "import sys\n",
    "import numpy as np\n",
    "import csv\n",
    "import time\n",
    "import datetime\n",
    "import matplotlib.pyplot as plt\n",
    "import os\n",
    "import numpy as np\n",
    "import scipy as sp\n",
    "import matplotlib.pyplot as plt\n",
    "from sklearn.ensemble import RandomForestClassifier\n",
    "from sklearn.metrics import classification_report\n",
    "from sklearn.cross_validation import cross_val_predict\n",
    "import pandas as pd"
   ]
  },
  {
   "cell_type": "code",
   "execution_count": 4,
   "metadata": {
    "collapsed": true
   },
   "outputs": [],
   "source": [
    "action02Path = r'/home/hisoka176/Downloads/NEWDATASET/JData_Action_201602.csv'"
   ]
  },
  {
   "cell_type": "code",
   "execution_count": 5,
   "metadata": {},
   "outputs": [],
   "source": [
    "action02DF = pd.read_csv(action02Path,header=0,encoding='GBK')"
   ]
  },
  {
   "cell_type": "code",
   "execution_count": 9,
   "metadata": {},
   "outputs": [
    {
     "data": {
      "text/plain": [
       "0           2016-01-31 23:59:02\n",
       "1           2016-01-31 23:59:03\n",
       "2           2016-01-31 23:59:07\n",
       "3           2016-01-31 23:59:08\n",
       "4           2016-01-31 23:59:08\n",
       "5           2016-01-31 23:59:11\n",
       "6           2016-01-31 23:59:11\n",
       "7           2016-01-31 23:59:11\n",
       "8           2016-01-31 23:59:14\n",
       "9           2016-01-31 23:59:14\n",
       "10          2016-01-31 23:59:16\n",
       "11          2016-01-31 23:59:22\n",
       "12          2016-01-31 23:59:24\n",
       "13          2016-01-31 23:59:25\n",
       "14          2016-01-31 23:59:25\n",
       "15          2016-01-31 23:59:40\n",
       "16          2016-01-31 23:59:48\n",
       "17          2016-01-31 23:59:50\n",
       "18          2016-01-31 23:59:52\n",
       "19          2016-01-31 23:59:53\n",
       "20          2016-01-31 23:59:54\n",
       "21          2016-01-31 23:59:54\n",
       "22          2016-01-31 23:59:59\n",
       "23          2016-01-31 23:59:59\n",
       "24          2016-01-31 23:59:59\n",
       "25          2016-01-31 23:59:59\n",
       "26          2016-01-31 23:59:59\n",
       "27          2016-01-31 23:59:59\n",
       "28          2016-01-31 23:59:59\n",
       "29          2016-02-01 00:00:00\n",
       "                   ...         \n",
       "11485394    2016-02-29 23:59:56\n",
       "11485395    2016-02-29 23:59:56\n",
       "11485396    2016-02-29 23:59:56\n",
       "11485397    2016-02-29 23:59:56\n",
       "11485398    2016-02-29 23:59:56\n",
       "11485399    2016-02-29 23:59:56\n",
       "11485400    2016-02-29 23:59:56\n",
       "11485401    2016-02-29 23:59:56\n",
       "11485402    2016-02-29 23:59:57\n",
       "11485403    2016-02-29 23:59:57\n",
       "11485404    2016-02-29 23:59:57\n",
       "11485405    2016-02-29 23:59:57\n",
       "11485406    2016-02-29 23:59:57\n",
       "11485407    2016-02-29 23:59:58\n",
       "11485408    2016-02-29 23:59:58\n",
       "11485409    2016-02-29 23:59:58\n",
       "11485410    2016-02-29 23:59:58\n",
       "11485411    2016-02-29 23:59:58\n",
       "11485412    2016-02-29 23:59:58\n",
       "11485413    2016-02-29 23:59:58\n",
       "11485414    2016-02-29 23:59:58\n",
       "11485415    2016-02-29 23:59:58\n",
       "11485416    2016-02-29 23:59:58\n",
       "11485417    2016-02-29 23:59:59\n",
       "11485418    2016-02-29 23:59:59\n",
       "11485419    2016-02-29 23:59:59\n",
       "11485420    2016-02-29 23:59:59\n",
       "11485421    2016-02-29 23:59:59\n",
       "11485422    2016-02-29 23:59:59\n",
       "11485423    2016-02-29 23:59:59\n",
       "Name: time, dtype: object"
      ]
     },
     "execution_count": 9,
     "metadata": {},
     "output_type": "execute_result"
    }
   ],
   "source": [
    "action02DF.time"
   ]
  }
 ],
 "metadata": {
  "kernelspec": {
   "display_name": "Python 3",
   "language": "python",
   "name": "python3"
  },
  "language_info": {
   "codemirror_mode": {
    "name": "ipython",
    "version": 3
   },
   "file_extension": ".py",
   "mimetype": "text/x-python",
   "name": "python",
   "nbconvert_exporter": "python",
   "pygments_lexer": "ipython3",
   "version": "3.5.2"
  }
 },
 "nbformat": 4,
 "nbformat_minor": 2
}

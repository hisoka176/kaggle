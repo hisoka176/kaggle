{
 "metadata": {
  "name": "",
  "signature": "sha256:2308206c8b153d60809ef3b5206fdfd416b062045bca645c5cc1ecd8f3ee7d62"
 },
 "nbformat": 3,
 "nbformat_minor": 0,
 "worksheets": [
  {
   "cells": [
    {
     "cell_type": "code",
     "collapsed": false,
     "input": [
      "import pandas as pd"
     ],
     "language": "python",
     "metadata": {},
     "outputs": [],
     "prompt_number": 2
    },
    {
     "cell_type": "code",
     "collapsed": false,
     "input": [
      "content = pd.DataFrame([1,2,3,4],index=['a','b','c','d'],columns=['day'])"
     ],
     "language": "python",
     "metadata": {},
     "outputs": [],
     "prompt_number": 8
    },
    {
     "cell_type": "code",
     "collapsed": false,
     "input": [
      "a=pd.get_dummies(content['day'],prefix='day')\n",
      "content.drop(['day'],axis=1,inplace=True)\n",
      "b=content.join(a)\n",
      "print(b)"
     ],
     "language": "python",
     "metadata": {},
     "outputs": [
      {
       "output_type": "stream",
       "stream": "stdout",
       "text": [
        "   day_1  day_2  day_3  day_4\n",
        "a      1      0      0      0\n",
        "b      0      1      0      0\n",
        "c      0      0      1      0\n",
        "d      0      0      0      1\n"
       ]
      }
     ],
     "prompt_number": 14
    },
    {
     "cell_type": "code",
     "collapsed": false,
     "input": [],
     "language": "python",
     "metadata": {},
     "outputs": [
      {
       "metadata": {},
       "output_type": "pyout",
       "prompt_number": 10,
       "text": [
        "a    1\n",
        "b    2\n",
        "c    3\n",
        "d    4\n",
        "Name: day, dtype: int64"
       ]
      }
     ],
     "prompt_number": 10
    }
   ],
   "metadata": {}
  }
 ]
}
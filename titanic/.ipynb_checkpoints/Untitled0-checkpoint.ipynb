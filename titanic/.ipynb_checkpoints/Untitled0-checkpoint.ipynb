{
 "metadata": {
  "name": "",
  "signature": "sha256:553887398b4a6ae92df0e04b7ea54694b2ecc3f2706a50fe9b626c4a29a24e25"
 },
 "nbformat": 3,
 "nbformat_minor": 0,
 "worksheets": []
}